{
 "cells": [
  {
   "cell_type": "code",
   "execution_count": 1,
   "id": "initial_id",
   "metadata": {
    "collapsed": true,
    "ExecuteTime": {
     "end_time": "2023-10-07T20:48:19.248647765Z",
     "start_time": "2023-10-07T20:48:17.231577476Z"
    }
   },
   "outputs": [],
   "source": [
    "import os\n",
    "import pandas as pd\n",
    "import numpy as np\n",
    "import torch\n",
    "\n",
    "from torch import nn\n",
    "from torch.utils.data import TensorDataset, DataLoader\n",
    "from torch.utils.tensorboard import SummaryWriter\n",
    "from tqdm.notebook import tqdm\n",
    "from sklearn.model_selection import train_test_split\n",
    "\n",
    "np.set_printoptions(precision=3, suppress=True)"
   ]
  },
  {
   "cell_type": "markdown",
   "source": [
    "## Preprocess"
   ],
   "metadata": {
    "collapsed": false
   },
   "id": "a40661c19e68c598"
  },
  {
   "cell_type": "code",
   "execution_count": 2,
   "outputs": [],
   "source": [
    "base = '../data/raw'\n",
    "data_path = 'cart_pole/20231006145359627330.csv'\n",
    "full_path = os.path.join(base, data_path)\n",
    "\n",
    "raw = pd.read_csv(full_path)"
   ],
   "metadata": {
    "collapsed": false,
    "ExecuteTime": {
     "end_time": "2023-10-07T20:48:19.273846777Z",
     "start_time": "2023-10-07T20:48:19.253538101Z"
    }
   },
   "id": "f63eb6eae08d54c0"
  },
  {
   "cell_type": "code",
   "execution_count": 3,
   "outputs": [
    {
     "data": {
      "text/plain": "   id   time                             qpos  \\\n0   0  0.002                          [0. 0.]   \n1   1  0.004  [1.19646578e-10 7.28605007e-10]   \n2   2  0.006  [7.17845414e-10 4.37140331e-09]   \n3   3  0.008  [2.39265913e-09 1.45702863e-08]   \n4   4  0.010  [5.98113704e-09 3.64223153e-08]   \n\n                              qvel                             qacc  \\\n0                          [0. 0.]                          [0. 0.]   \n1  [5.98232892e-08 3.64302504e-07]  [2.99116446e-05 1.82151252e-04]   \n2  [2.99099418e-07 1.82139915e-06]          [0.00011964 0.00072855]   \n3  [8.37406857e-07 5.09944152e-06]          [0.00026915 0.00163902]   \n4  [1.79423896e-06 1.09260145e-05]          [0.00047842 0.00291329]   \n\n                              ctrl  \n0                          [0. 0.]  \n1  [9.99983333e-05 9.99983333e-05]  \n2          [0.00039997 0.00039997]  \n3          [0.00089987 0.00089987]  \n4          [0.00159957 0.00159957]  ",
      "text/html": "<div>\n<style scoped>\n    .dataframe tbody tr th:only-of-type {\n        vertical-align: middle;\n    }\n\n    .dataframe tbody tr th {\n        vertical-align: top;\n    }\n\n    .dataframe thead th {\n        text-align: right;\n    }\n</style>\n<table border=\"1\" class=\"dataframe\">\n  <thead>\n    <tr style=\"text-align: right;\">\n      <th></th>\n      <th>id</th>\n      <th>time</th>\n      <th>qpos</th>\n      <th>qvel</th>\n      <th>qacc</th>\n      <th>ctrl</th>\n    </tr>\n  </thead>\n  <tbody>\n    <tr>\n      <th>0</th>\n      <td>0</td>\n      <td>0.002</td>\n      <td>[0. 0.]</td>\n      <td>[0. 0.]</td>\n      <td>[0. 0.]</td>\n      <td>[0. 0.]</td>\n    </tr>\n    <tr>\n      <th>1</th>\n      <td>1</td>\n      <td>0.004</td>\n      <td>[1.19646578e-10 7.28605007e-10]</td>\n      <td>[5.98232892e-08 3.64302504e-07]</td>\n      <td>[2.99116446e-05 1.82151252e-04]</td>\n      <td>[9.99983333e-05 9.99983333e-05]</td>\n    </tr>\n    <tr>\n      <th>2</th>\n      <td>2</td>\n      <td>0.006</td>\n      <td>[7.17845414e-10 4.37140331e-09]</td>\n      <td>[2.99099418e-07 1.82139915e-06]</td>\n      <td>[0.00011964 0.00072855]</td>\n      <td>[0.00039997 0.00039997]</td>\n    </tr>\n    <tr>\n      <th>3</th>\n      <td>3</td>\n      <td>0.008</td>\n      <td>[2.39265913e-09 1.45702863e-08]</td>\n      <td>[8.37406857e-07 5.09944152e-06]</td>\n      <td>[0.00026915 0.00163902]</td>\n      <td>[0.00089987 0.00089987]</td>\n    </tr>\n    <tr>\n      <th>4</th>\n      <td>4</td>\n      <td>0.010</td>\n      <td>[5.98113704e-09 3.64223153e-08]</td>\n      <td>[1.79423896e-06 1.09260145e-05]</td>\n      <td>[0.00047842 0.00291329]</td>\n      <td>[0.00159957 0.00159957]</td>\n    </tr>\n  </tbody>\n</table>\n</div>"
     },
     "execution_count": 3,
     "metadata": {},
     "output_type": "execute_result"
    }
   ],
   "source": [
    "raw.head()"
   ],
   "metadata": {
    "collapsed": false,
    "ExecuteTime": {
     "end_time": "2023-10-07T20:48:19.566636839Z",
     "start_time": "2023-10-07T20:48:19.527743663Z"
    }
   },
   "id": "53b135bcdf20987a"
  },
  {
   "cell_type": "code",
   "execution_count": 4,
   "outputs": [],
   "source": [
    "def str_to_list(s: str) -> np.ndarray:\n",
    "    return np.fromstring(s[1: -1], dtype=float, sep=' ')\n",
    "\n",
    "\n",
    "def transform_to_numpy(df: pd.DataFrame) -> tuple[np.ndarray, np.ndarray]:\n",
    "    x_res = []\n",
    "    y_res = []\n",
    "\n",
    "    for _, row in df.iterrows():\n",
    "        row = row.to_list()[2:]\n",
    "        x_res.append(np.r_[str_to_list(row[0]), str_to_list(row[1]), str_to_list(row[3])])\n",
    "        y_res.append(str_to_list(row[2]))\n",
    "\n",
    "    return np.array(x_res), np.array(y_res)"
   ],
   "metadata": {
    "collapsed": false,
    "ExecuteTime": {
     "end_time": "2023-10-07T20:48:20.454651494Z",
     "start_time": "2023-10-07T20:48:20.450658544Z"
    }
   },
   "id": "f8bcf17699c6ab21"
  },
  {
   "cell_type": "code",
   "execution_count": 5,
   "outputs": [],
   "source": [
    "proportion = 0.2\n",
    "\n",
    "x_data, y_data = transform_to_numpy(raw)\n",
    "x_train, x_test, y_train, y_test = train_test_split(x_data, y_data, test_size=proportion, random_state=42)"
   ],
   "metadata": {
    "collapsed": false,
    "ExecuteTime": {
     "end_time": "2023-10-07T20:48:21.324073217Z",
     "start_time": "2023-10-07T20:48:21.038988329Z"
    }
   },
   "id": "d6a9a16e23271bc6"
  },
  {
   "cell_type": "code",
   "execution_count": 6,
   "outputs": [
    {
     "name": "stdout",
     "output_type": "stream",
     "text": [
      "(4000, 6)\n",
      "(4000, 2)\n"
     ]
    }
   ],
   "source": [
    "print(x_train.shape)\n",
    "print(y_train.shape)"
   ],
   "metadata": {
    "collapsed": false,
    "ExecuteTime": {
     "end_time": "2023-10-07T20:48:21.543699798Z",
     "start_time": "2023-10-07T20:48:21.521087675Z"
    }
   },
   "id": "74148ec2ad642555"
  },
  {
   "cell_type": "code",
   "execution_count": 7,
   "outputs": [],
   "source": [
    "train_loader = DataLoader(\n",
    "    TensorDataset(torch.tensor(x_train), torch.tensor(y_train)),\n",
    "    batch_size=100,\n",
    "    shuffle=True\n",
    ")\n",
    "val_loader = DataLoader(\n",
    "    TensorDataset(torch.tensor(x_test), torch.tensor(y_test)),\n",
    "    batch_size=100,\n",
    "    shuffle=True\n",
    ")"
   ],
   "metadata": {
    "collapsed": false,
    "ExecuteTime": {
     "end_time": "2023-10-07T20:48:22.117956045Z",
     "start_time": "2023-10-07T20:48:22.109285816Z"
    }
   },
   "id": "6d52a9459556b6ec"
  },
  {
   "cell_type": "markdown",
   "source": [
    "## Model"
   ],
   "metadata": {
    "collapsed": false
   },
   "id": "4b1da7fd7d6460aa"
  },
  {
   "cell_type": "code",
   "execution_count": 8,
   "outputs": [],
   "source": [
    "class Naive(nn.Module):\n",
    "    def __init__(self, input_dim: int, output_dim: int, dtype: torch.dtype = torch.float64):\n",
    "        super(Naive, self).__init__()\n",
    "\n",
    "        self.model = nn.Sequential(\n",
    "            nn.Linear(input_dim, 100),\n",
    "            nn.Sigmoid(),\n",
    "            nn.Linear(100, 100),\n",
    "            nn.Sigmoid(),\n",
    "            nn.Linear(100, 100),\n",
    "            nn.Sigmoid(),\n",
    "            nn.Linear(100, output_dim),\n",
    "        ).type(dtype)\n",
    "\n",
    "    def forward(self, x):\n",
    "        return self.model(x)"
   ],
   "metadata": {
    "collapsed": false,
    "ExecuteTime": {
     "end_time": "2023-10-07T20:48:23.028488392Z",
     "start_time": "2023-10-07T20:48:23.022953218Z"
    }
   },
   "id": "2ef85a670e17e7e5"
  },
  {
   "cell_type": "code",
   "execution_count": 22,
   "outputs": [],
   "source": [
    "def to_device(_device: torch.device, *tensors: torch.Tensor) -> tuple[torch.Tensor, ...]:\n",
    "    return tuple(t.to(_device) for t in tensors)\n",
    "\n",
    "\n",
    "def train_one_epoch(\n",
    "        _model: nn.Module,\n",
    "        _optimizer: torch.optim.Optimizer,\n",
    "        _loss_fn: torch.nn.Module,\n",
    "        _train_loader: DataLoader,\n",
    "        _epoch_num: int,\n",
    "        _device: torch.device = \"cpu\",\n",
    "        _ckpt_path: str = \"best.pt\",\n",
    "):\n",
    "    # best score for checkpointing\n",
    "    _best = np.inf\n",
    "\n",
    "    # training loop description\n",
    "    train_loop = tqdm(\n",
    "        enumerate(_train_loader, 1), \n",
    "        total=len(_train_loader),\n",
    "        desc=f\"Epoch {_epoch_num}\",\n",
    "        leave=True,\n",
    "    )\n",
    "    _model.train()\n",
    "    _train_loss = 0.0\n",
    "    # iterate over dataset\n",
    "    for i, data in train_loop:\n",
    "        _x, _y = to_device(_device, *data)\n",
    "\n",
    "        # zero the parameter gradients\n",
    "        _optimizer.zero_grad()\n",
    "\n",
    "        # forward pass and loss calculation\n",
    "        _outputs = _model(_x)\n",
    "        _loss = _loss_fn(_outputs, _y)\n",
    "\n",
    "        # backward pass\n",
    "        _loss.backward()\n",
    "\n",
    "        # optimizer run\n",
    "        _optimizer.step()\n",
    "\n",
    "        _train_loss += _loss.item()\n",
    "        train_loop.set_postfix({\"loss\": _train_loss / i})\n",
    "\n",
    "\n",
    "def val_one_epoch(\n",
    "        _model: nn.Module,\n",
    "        _optimizer: torch.optim.Optimizer,\n",
    "        _loss_fn: torch.nn.Module,\n",
    "        _val_loader: DataLoader,\n",
    "        _best: float,\n",
    "        _epoch_num: int,\n",
    "        _device: torch.device = \"cpu\",\n",
    "        _ckpt_path: str = \"best.pt\",\n",
    "):\n",
    "    # validation\n",
    "    _val_loss = 0.0\n",
    "    with torch.no_grad():\n",
    "        _model.eval()  # evaluation mode\n",
    "        val_loop = tqdm(\n",
    "            enumerate(_val_loader, 1),\n",
    "            total=len(_val_loader),\n",
    "            desc=f\"Val {_epoch_num}\",\n",
    "            leave=True,\n",
    "        )\n",
    "        for i, data in val_loop:\n",
    "            _x, _y = to_device(_device, *data)\n",
    "\n",
    "            _outputs = _model(_x)\n",
    "            _val_loss += _loss_fn(_outputs, _y).item()\n",
    "\n",
    "            val_loop.set_postfix({\"loss\": _val_loss / i})\n",
    "\n",
    "        if _val_loss / len(_val_loader) > _best:\n",
    "            torch.save(_model.state_dict(), _ckpt_path)\n",
    "            _best = _val_loss / len(_val_loader)\n",
    "    return _best\n",
    "\n",
    "\n",
    "def train(\n",
    "        _model: nn.Module,\n",
    "        _optimizer: torch.optim.Optimizer,\n",
    "        _loss_fn: torch.nn.Module,\n",
    "        _train_loader: DataLoader,\n",
    "        _val_loader: DataLoader,\n",
    "        _epochs: int,\n",
    "        _device: torch.device = \"cpu\",\n",
    "        _ckpt_path: str = \"best.pt\",\n",
    "):\n",
    "    best = -float('inf')\n",
    "    for epoch in range(_epochs):\n",
    "        train_one_epoch(_model, _optimizer, _loss_fn, _train_loader, epoch, _device, _ckpt_path)\n",
    "        best = val_one_epoch(_model, _optimizer, _loss_fn, _val_loader, epoch, best, _device, _ckpt_path)\n",
    "        print(best)"
   ],
   "metadata": {
    "collapsed": false,
    "ExecuteTime": {
     "end_time": "2023-10-07T20:52:12.527824201Z",
     "start_time": "2023-10-07T20:52:12.486566326Z"
    }
   },
   "id": "157f4f66044aad86"
  },
  {
   "cell_type": "code",
   "execution_count": 15,
   "outputs": [],
   "source": [
    "device = 'cuda' if torch.cuda.is_available else 'cpu'\n",
    "model = Naive(x_data.shape[1], y_data.shape[1]).to(device)\n",
    "optimizer = torch.optim.Adam(model.parameters())\n",
    "loss_fn = torch.nn.MSELoss()\n",
    "# writer = SummaryWriter()"
   ],
   "metadata": {
    "collapsed": false,
    "ExecuteTime": {
     "end_time": "2023-10-07T20:50:12.123573379Z",
     "start_time": "2023-10-07T20:50:12.091078478Z"
    }
   },
   "id": "5234f4090c37fa59"
  },
  {
   "cell_type": "code",
   "execution_count": 37,
   "outputs": [
    {
     "data": {
      "text/plain": "Epoch 0:   0%|          | 0/40 [00:00<?, ?it/s]",
      "application/vnd.jupyter.widget-view+json": {
       "version_major": 2,
       "version_minor": 0,
       "model_id": "f5285ad7a245440495f6ba16b2463373"
      }
     },
     "metadata": {},
     "output_type": "display_data"
    },
    {
     "data": {
      "text/plain": "Val -inf:   0%|          | 0/10 [00:00<?, ?it/s]",
      "application/vnd.jupyter.widget-view+json": {
       "version_major": 2,
       "version_minor": 0,
       "model_id": "de4f6a51c6064f5c85b80bfa68f21232"
      }
     },
     "metadata": {},
     "output_type": "display_data"
    },
    {
     "name": "stdout",
     "output_type": "stream",
     "text": [
      "2.6226585059542336\n"
     ]
    },
    {
     "data": {
      "text/plain": "Epoch 1:   0%|          | 0/40 [00:00<?, ?it/s]",
      "application/vnd.jupyter.widget-view+json": {
       "version_major": 2,
       "version_minor": 0,
       "model_id": "200adf5b47304e2e9747bd2e5cb61eb8"
      }
     },
     "metadata": {},
     "output_type": "display_data"
    },
    {
     "data": {
      "text/plain": "Val 2.6226585059542336:   0%|          | 0/10 [00:00<?, ?it/s]",
      "application/vnd.jupyter.widget-view+json": {
       "version_major": 2,
       "version_minor": 0,
       "model_id": "34168ca2fc3e450f8de7f58bbd93fe89"
      }
     },
     "metadata": {},
     "output_type": "display_data"
    },
    {
     "name": "stdout",
     "output_type": "stream",
     "text": [
      "3.5409128792355284\n"
     ]
    },
    {
     "data": {
      "text/plain": "Epoch 2:   0%|          | 0/40 [00:00<?, ?it/s]",
      "application/vnd.jupyter.widget-view+json": {
       "version_major": 2,
       "version_minor": 0,
       "model_id": "411c273636364fb2aa82757f57e0812a"
      }
     },
     "metadata": {},
     "output_type": "display_data"
    },
    {
     "data": {
      "text/plain": "Val 3.5409128792355284:   0%|          | 0/10 [00:00<?, ?it/s]",
      "application/vnd.jupyter.widget-view+json": {
       "version_major": 2,
       "version_minor": 0,
       "model_id": "395eb26209be4a53a68229e1c3bf5be9"
      }
     },
     "metadata": {},
     "output_type": "display_data"
    },
    {
     "name": "stdout",
     "output_type": "stream",
     "text": [
      "2.22886963389695\n"
     ]
    },
    {
     "data": {
      "text/plain": "Epoch 3:   0%|          | 0/40 [00:00<?, ?it/s]",
      "application/vnd.jupyter.widget-view+json": {
       "version_major": 2,
       "version_minor": 0,
       "model_id": "34064501971947278f5c9f71db41c680"
      }
     },
     "metadata": {},
     "output_type": "display_data"
    },
    {
     "data": {
      "text/plain": "Val 2.22886963389695:   0%|          | 0/10 [00:00<?, ?it/s]",
      "application/vnd.jupyter.widget-view+json": {
       "version_major": 2,
       "version_minor": 0,
       "model_id": "47397ab83b3b46a8b61940f673a7e633"
      }
     },
     "metadata": {},
     "output_type": "display_data"
    },
    {
     "name": "stdout",
     "output_type": "stream",
     "text": [
      "3\n"
     ]
    },
    {
     "data": {
      "text/plain": "Epoch 4:   0%|          | 0/40 [00:00<?, ?it/s]",
      "application/vnd.jupyter.widget-view+json": {
       "version_major": 2,
       "version_minor": 0,
       "model_id": "b33d10a918314725939cac027bfce31e"
      }
     },
     "metadata": {},
     "output_type": "display_data"
    },
    {
     "data": {
      "text/plain": "Val 3:   0%|          | 0/10 [00:00<?, ?it/s]",
      "application/vnd.jupyter.widget-view+json": {
       "version_major": 2,
       "version_minor": 0,
       "model_id": "bb8981df2ad54a83b77421462fbc2fa8"
      }
     },
     "metadata": {},
     "output_type": "display_data"
    },
    {
     "name": "stdout",
     "output_type": "stream",
     "text": [
      "4\n"
     ]
    },
    {
     "data": {
      "text/plain": "Epoch 5:   0%|          | 0/40 [00:00<?, ?it/s]",
      "application/vnd.jupyter.widget-view+json": {
       "version_major": 2,
       "version_minor": 0,
       "model_id": "c767a95ade26445d89fbdf59564f2e82"
      }
     },
     "metadata": {},
     "output_type": "display_data"
    },
    {
     "data": {
      "text/plain": "Val 4:   0%|          | 0/10 [00:00<?, ?it/s]",
      "application/vnd.jupyter.widget-view+json": {
       "version_major": 2,
       "version_minor": 0,
       "model_id": "9991107b953d4230a124c13db29026bc"
      }
     },
     "metadata": {},
     "output_type": "display_data"
    },
    {
     "name": "stdout",
     "output_type": "stream",
     "text": [
      "5\n"
     ]
    },
    {
     "data": {
      "text/plain": "Epoch 6:   0%|          | 0/40 [00:00<?, ?it/s]",
      "application/vnd.jupyter.widget-view+json": {
       "version_major": 2,
       "version_minor": 0,
       "model_id": "8b4b5c83a0e54dda8b659486e6ca9350"
      }
     },
     "metadata": {},
     "output_type": "display_data"
    },
    {
     "data": {
      "text/plain": "Val 5:   0%|          | 0/10 [00:00<?, ?it/s]",
      "application/vnd.jupyter.widget-view+json": {
       "version_major": 2,
       "version_minor": 0,
       "model_id": "17283cf3d1a84887af592289fe013e6d"
      }
     },
     "metadata": {},
     "output_type": "display_data"
    },
    {
     "name": "stdout",
     "output_type": "stream",
     "text": [
      "6\n"
     ]
    },
    {
     "data": {
      "text/plain": "Epoch 7:   0%|          | 0/40 [00:00<?, ?it/s]",
      "application/vnd.jupyter.widget-view+json": {
       "version_major": 2,
       "version_minor": 0,
       "model_id": "8c36e2d69d984856a37e43f30ead90a1"
      }
     },
     "metadata": {},
     "output_type": "display_data"
    },
    {
     "data": {
      "text/plain": "Val 6:   0%|          | 0/10 [00:00<?, ?it/s]",
      "application/vnd.jupyter.widget-view+json": {
       "version_major": 2,
       "version_minor": 0,
       "model_id": "7b5fbfc04bf744b99084ee8b3ca96f61"
      }
     },
     "metadata": {},
     "output_type": "display_data"
    },
    {
     "name": "stdout",
     "output_type": "stream",
     "text": [
      "7\n"
     ]
    },
    {
     "data": {
      "text/plain": "Epoch 8:   0%|          | 0/40 [00:00<?, ?it/s]",
      "application/vnd.jupyter.widget-view+json": {
       "version_major": 2,
       "version_minor": 0,
       "model_id": "0a7001795d4c4e848945f721c5f30ff2"
      }
     },
     "metadata": {},
     "output_type": "display_data"
    },
    {
     "data": {
      "text/plain": "Val 7:   0%|          | 0/10 [00:00<?, ?it/s]",
      "application/vnd.jupyter.widget-view+json": {
       "version_major": 2,
       "version_minor": 0,
       "model_id": "f1e5256a9bdb4c1488d502444cc41e77"
      }
     },
     "metadata": {},
     "output_type": "display_data"
    },
    {
     "name": "stdout",
     "output_type": "stream",
     "text": [
      "8\n"
     ]
    },
    {
     "data": {
      "text/plain": "Epoch 9:   0%|          | 0/40 [00:00<?, ?it/s]",
      "application/vnd.jupyter.widget-view+json": {
       "version_major": 2,
       "version_minor": 0,
       "model_id": "cb7338f9157e4c3693ad5899bff21de5"
      }
     },
     "metadata": {},
     "output_type": "display_data"
    },
    {
     "data": {
      "text/plain": "Val 8:   0%|          | 0/10 [00:00<?, ?it/s]",
      "application/vnd.jupyter.widget-view+json": {
       "version_major": 2,
       "version_minor": 0,
       "model_id": "559dda7671384639ae8b448acb232181"
      }
     },
     "metadata": {},
     "output_type": "display_data"
    },
    {
     "name": "stdout",
     "output_type": "stream",
     "text": [
      "9\n"
     ]
    }
   ],
   "source": [
    "train(model, optimizer, loss_fn, train_loader, val_loader, 10, device)"
   ],
   "metadata": {
    "collapsed": false,
    "ExecuteTime": {
     "end_time": "2023-10-07T20:54:23.699977307Z",
     "start_time": "2023-10-07T20:54:21.879555640Z"
    }
   },
   "id": "d2587ae0abf126c9"
  }
 ],
 "metadata": {
  "kernelspec": {
   "display_name": "Python 3",
   "language": "python",
   "name": "python3"
  },
  "language_info": {
   "codemirror_mode": {
    "name": "ipython",
    "version": 2
   },
   "file_extension": ".py",
   "mimetype": "text/x-python",
   "name": "python",
   "nbconvert_exporter": "python",
   "pygments_lexer": "ipython2",
   "version": "2.7.6"
  }
 },
 "nbformat": 4,
 "nbformat_minor": 5
}
