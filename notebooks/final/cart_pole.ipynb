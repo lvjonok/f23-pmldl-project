{
 "cells": [
  {
   "cell_type": "code",
   "execution_count": 1,
   "metadata": {},
   "outputs": [],
   "source": [
    "import os\n",
    "import pandas as pd\n",
    "import numpy as np\n",
    "import torch\n",
    "\n",
    "from torch import nn\n",
    "from torch.utils.data import TensorDataset, DataLoader\n",
    "from sklearn.model_selection import train_test_split\n",
    "from matplotlib import pyplot as plt\n",
    "import sys\n",
    "\n",
    "sys.path.append(\"../..\")\n",
    "\n",
    "from src.physics_dataset import PhysicsStatesDataset\n",
    "from src.ai_models import FullyConnectedCtrl, CasadiModel"
   ]
  },
  {
   "cell_type": "code",
   "execution_count": 2,
   "metadata": {},
   "outputs": [
    {
     "data": {
      "text/html": [
       "<div>\n",
       "<style scoped>\n",
       "    .dataframe tbody tr th:only-of-type {\n",
       "        vertical-align: middle;\n",
       "    }\n",
       "\n",
       "    .dataframe tbody tr th {\n",
       "        vertical-align: top;\n",
       "    }\n",
       "\n",
       "    .dataframe thead th {\n",
       "        text-align: right;\n",
       "    }\n",
       "</style>\n",
       "<table border=\"1\" class=\"dataframe\">\n",
       "  <thead>\n",
       "    <tr style=\"text-align: right;\">\n",
       "      <th></th>\n",
       "      <th>id</th>\n",
       "      <th>time</th>\n",
       "      <th>qpos</th>\n",
       "      <th>qvel</th>\n",
       "      <th>qacc</th>\n",
       "      <th>ctrl</th>\n",
       "    </tr>\n",
       "  </thead>\n",
       "  <tbody>\n",
       "    <tr>\n",
       "      <th>0</th>\n",
       "      <td>0</td>\n",
       "      <td>0.002</td>\n",
       "      <td>[0.0, 0.0]</td>\n",
       "      <td>[0.0, 0.0]</td>\n",
       "      <td>[0.0, 0.0]</td>\n",
       "      <td>[0.0, 0.0]</td>\n",
       "    </tr>\n",
       "    <tr>\n",
       "      <th>1</th>\n",
       "      <td>1</td>\n",
       "      <td>0.004</td>\n",
       "      <td>[1.19646578e-10, 7.28605007e-10]</td>\n",
       "      <td>[5.98232892e-08, 3.64302504e-07]</td>\n",
       "      <td>[2.99116446e-05, 0.000182151252]</td>\n",
       "      <td>[9.99983333e-05, 9.99983333e-05]</td>\n",
       "    </tr>\n",
       "    <tr>\n",
       "      <th>2</th>\n",
       "      <td>2</td>\n",
       "      <td>0.006</td>\n",
       "      <td>[7.17845414e-10, 4.37140331e-09]</td>\n",
       "      <td>[2.99099418e-07, 1.82139915e-06]</td>\n",
       "      <td>[0.00011964, 0.00072855]</td>\n",
       "      <td>[0.00039997, 0.00039997]</td>\n",
       "    </tr>\n",
       "    <tr>\n",
       "      <th>3</th>\n",
       "      <td>3</td>\n",
       "      <td>0.008</td>\n",
       "      <td>[2.39265913e-09, 1.45702863e-08]</td>\n",
       "      <td>[8.37406857e-07, 5.09944152e-06]</td>\n",
       "      <td>[0.00026915, 0.00163902]</td>\n",
       "      <td>[0.00089987, 0.00089987]</td>\n",
       "    </tr>\n",
       "    <tr>\n",
       "      <th>4</th>\n",
       "      <td>4</td>\n",
       "      <td>0.010</td>\n",
       "      <td>[5.98113704e-09, 3.64223153e-08]</td>\n",
       "      <td>[1.79423896e-06, 1.09260145e-05]</td>\n",
       "      <td>[0.00047842, 0.00291329]</td>\n",
       "      <td>[0.00159957, 0.00159957]</td>\n",
       "    </tr>\n",
       "  </tbody>\n",
       "</table>\n",
       "</div>"
      ],
      "text/plain": [
       "   id   time                              qpos  \\\n",
       "0   0  0.002                        [0.0, 0.0]   \n",
       "1   1  0.004  [1.19646578e-10, 7.28605007e-10]   \n",
       "2   2  0.006  [7.17845414e-10, 4.37140331e-09]   \n",
       "3   3  0.008  [2.39265913e-09, 1.45702863e-08]   \n",
       "4   4  0.010  [5.98113704e-09, 3.64223153e-08]   \n",
       "\n",
       "                               qvel                              qacc  \\\n",
       "0                        [0.0, 0.0]                        [0.0, 0.0]   \n",
       "1  [5.98232892e-08, 3.64302504e-07]  [2.99116446e-05, 0.000182151252]   \n",
       "2  [2.99099418e-07, 1.82139915e-06]          [0.00011964, 0.00072855]   \n",
       "3  [8.37406857e-07, 5.09944152e-06]          [0.00026915, 0.00163902]   \n",
       "4  [1.79423896e-06, 1.09260145e-05]          [0.00047842, 0.00291329]   \n",
       "\n",
       "                               ctrl  \n",
       "0                        [0.0, 0.0]  \n",
       "1  [9.99983333e-05, 9.99983333e-05]  \n",
       "2          [0.00039997, 0.00039997]  \n",
       "3          [0.00089987, 0.00089987]  \n",
       "4          [0.00159957, 0.00159957]  "
      ]
     },
     "execution_count": 2,
     "metadata": {},
     "output_type": "execute_result"
    }
   ],
   "source": [
    "dataset = PhysicsStatesDataset(\"../../data/raw/cart_pole/20231006145359627330.csv\")\n",
    "\n",
    "# dataset.join_dataframe(\"../../data/raw/cart_pole/20231006145432781317.csv\")\n",
    "\n",
    "dataset.dataframe.head()"
   ]
  },
  {
   "cell_type": "code",
   "execution_count": 3,
   "metadata": {},
   "outputs": [],
   "source": [
    "from sklearn.model_selection import train_test_split\n",
    "\n",
    "proportion = 0.2\n",
    "x_train, x_test, y_train, y_test = train_test_split(\n",
    "    dataset.states.float(), dataset.ctrls.float(), test_size=proportion, random_state=42\n",
    ")"
   ]
  },
  {
   "cell_type": "code",
   "execution_count": 4,
   "metadata": {},
   "outputs": [
    {
     "name": "stderr",
     "output_type": "stream",
     "text": [
      "/tmp/ipykernel_22674/3394741560.py:2: UserWarning: To copy construct from a tensor, it is recommended to use sourceTensor.clone().detach() or sourceTensor.clone().detach().requires_grad_(True), rather than torch.tensor(sourceTensor).\n",
      "  TensorDataset(torch.tensor(x_train), torch.tensor(y_train)),\n",
      "/tmp/ipykernel_22674/3394741560.py:7: UserWarning: To copy construct from a tensor, it is recommended to use sourceTensor.clone().detach() or sourceTensor.clone().detach().requires_grad_(True), rather than torch.tensor(sourceTensor).\n",
      "  TensorDataset(torch.tensor(x_test), torch.tensor(y_test)),\n"
     ]
    }
   ],
   "source": [
    "train_loader = DataLoader(\n",
    "    TensorDataset(torch.tensor(x_train), torch.tensor(y_train)),\n",
    "    batch_size=20,\n",
    "    shuffle=True,\n",
    ")\n",
    "val_loader = DataLoader(\n",
    "    TensorDataset(torch.tensor(x_test), torch.tensor(y_test)),\n",
    "    batch_size=20,\n",
    "    shuffle=True,\n",
    ")"
   ]
  },
  {
   "cell_type": "code",
   "execution_count": 5,
   "metadata": {},
   "outputs": [
    {
     "data": {
      "text/plain": [
       "tensor([[ 9.6463,  9.6463],\n",
       "        [17.1924, 17.1924],\n",
       "        [26.1315, 26.1315],\n",
       "        ...,\n",
       "        [21.2909, 21.2909],\n",
       "        [22.2912, 22.2912],\n",
       "        [ 7.6851,  7.6851]])"
      ]
     },
     "execution_count": 5,
     "metadata": {},
     "output_type": "execute_result"
    }
   ],
   "source": [
    "y_test"
   ]
  },
  {
   "cell_type": "code",
   "execution_count": 6,
   "metadata": {},
   "outputs": [],
   "source": [
    "device = \"cuda\" if torch.cuda.is_available() else \"cpu\"\n",
    "\n",
    "model = FullyConnectedCtrl(\n",
    "    nv=2,\n",
    "    ctrl=2,\n",
    "    linear_layers=3,\n",
    "    linear_hidden_size=100,\n",
    ").to(device)"
   ]
  },
  {
   "cell_type": "code",
   "execution_count": 7,
   "metadata": {},
   "outputs": [
    {
     "data": {
      "text/plain": [
       "<All keys matched successfully>"
      ]
     },
     "execution_count": 7,
     "metadata": {},
     "output_type": "execute_result"
    }
   ],
   "source": [
    "model.load_state_dict(torch.load(\"../../data/models/cartpole_fc.pt\"))"
   ]
  },
  {
   "cell_type": "code",
   "execution_count": 8,
   "metadata": {},
   "outputs": [],
   "source": [
    "# _, val_losses = model.train_model(\n",
    "#     train_loader,\n",
    "#     val_loader,\n",
    "#     epochs=30,\n",
    "#     ckpt_path=\"../../data/models/cartpole_fc.pt\",\n",
    "# )\n"
   ]
  },
  {
   "cell_type": "code",
   "execution_count": 9,
   "metadata": {},
   "outputs": [],
   "source": [
    "# plt.title(\"Validation losses\")\n",
    "# plt.plot(val_losses)\n",
    "# plt.grid()\n",
    "# plt.xlabel(\"Epoch\")\n",
    "# plt.ylabel(\"Loss\")\n",
    "# plt.show()"
   ]
  },
  {
   "cell_type": "code",
   "execution_count": 10,
   "metadata": {},
   "outputs": [
    {
     "data": {
      "text/plain": [
       "tensor([-0.1051, -0.1090], grad_fn=<ViewBackward0>)"
      ]
     },
     "execution_count": 10,
     "metadata": {},
     "output_type": "execute_result"
    }
   ],
   "source": [
    "model(torch.tensor([0, 0, 0, 0, 0, 0], dtype=torch.float))"
   ]
  },
  {
   "cell_type": "code",
   "execution_count": 11,
   "metadata": {},
   "outputs": [],
   "source": [
    "casadi_model = CasadiModel(model)"
   ]
  },
  {
   "cell_type": "code",
   "execution_count": 12,
   "metadata": {},
   "outputs": [
    {
     "data": {
      "text/plain": [
       "DM([[-0.105101, -0.109014]])"
      ]
     },
     "execution_count": 12,
     "metadata": {},
     "output_type": "execute_result"
    }
   ],
   "source": [
    "casadi_model(np.array([0, 0, 0, 0, 0, 0]))"
   ]
  },
  {
   "cell_type": "markdown",
   "metadata": {},
   "source": [
    "# Trajectory optimization"
   ]
  },
  {
   "cell_type": "code",
   "execution_count": 13,
   "metadata": {},
   "outputs": [],
   "source": [
    "import casadi as cs\n",
    "\n",
    "cart0 = 0\n",
    "cartfinal = 0\n",
    "angle0 = 0\n",
    "anglefinal = cs.pi"
   ]
  },
  {
   "cell_type": "code",
   "execution_count": 14,
   "metadata": {},
   "outputs": [],
   "source": [
    "# formulate problem\n",
    "\n",
    "opti = cs.Opti()\n",
    "\n",
    "T = 3\n",
    "N = T * 200\n",
    "\n",
    "x = opti.variable(N, 6)\n",
    "q = x[:, :2]\n",
    "dq = x[:, 2:4]\n",
    "ddq = x[:, 4:]"
   ]
  },
  {
   "cell_type": "code",
   "execution_count": 15,
   "metadata": {},
   "outputs": [
    {
     "data": {
      "text/plain": [
       "(1, 2)"
      ]
     },
     "execution_count": 15,
     "metadata": {},
     "output_type": "execute_result"
    }
   ],
   "source": [
    "q[0, :].shape"
   ]
  },
  {
   "cell_type": "code",
   "execution_count": 16,
   "metadata": {},
   "outputs": [],
   "source": [
    "opti.subject_to(q[0, :].T == [cart0, angle0])\n",
    "opti.subject_to(q[-1, :].T == [cartfinal, anglefinal])\n",
    "\n",
    "opti.set_initial(q[:, 0], cs.linspace(cart0, cartfinal, N))\n",
    "opti.set_initial(dq[:, 0], (cartfinal - cart0) / T)\n",
    "opti.set_initial(ddq[:, 0], (cartfinal - cart0) / T**2)\n",
    "\n",
    "opti.subject_to(dq[0, :] == 0)\n",
    "opti.subject_to(dq[-1, :] == 0)\n",
    "\n",
    "opti.subject_to(ddq[-1, :] == 0)\n",
    "opti.subject_to(ddq[0, :] == 0)"
   ]
  },
  {
   "cell_type": "code",
   "execution_count": 17,
   "metadata": {},
   "outputs": [
    {
     "data": {
      "text/plain": [
       "MX(inference(opti0_x_1[:3600:600]){0})"
      ]
     },
     "execution_count": 17,
     "metadata": {},
     "output_type": "execute_result"
    }
   ],
   "source": [
    "casadi_model(x[0, :])"
   ]
  },
  {
   "cell_type": "code",
   "execution_count": 18,
   "metadata": {},
   "outputs": [],
   "source": [
    "# integration constraints\n",
    "dt = T / N\n",
    "\n",
    "for i in range(N - 1):\n",
    "    opti.subject_to(q[i + 1] == q[i] + dt * dq[i + 1])\n",
    "    opti.subject_to(dq[i + 1] == dq[i] + dt * ddq[i])\n",
    "\n",
    "cost = 0\n",
    "\n",
    "# dynamics constraints\n",
    "for i in range(N - 1):\n",
    "    u = casadi_model(x[i, :])\n",
    "\n",
    "    # # constraint might come from our motor possibilites\n",
    "    opti.subject_to(opti.bounded(-30, u, 30))\n",
    "\n",
    "    cost += 1 * u[0] ** 2 + 100 * u[1] ** 2\n",
    "\n",
    "opti.minimize(cost)"
   ]
  },
  {
   "cell_type": "code",
   "execution_count": 19,
   "metadata": {},
   "outputs": [
    {
     "name": "stdout",
     "output_type": "stream",
     "text": [
      "\n",
      "******************************************************************************\n",
      "This program contains Ipopt, a library for large-scale nonlinear optimization.\n",
      " Ipopt is released as open source code under the Eclipse Public License (EPL).\n",
      "         For more information visit https://github.com/coin-or/Ipopt\n",
      "******************************************************************************\n",
      "\n",
      "This is Ipopt version 3.14.11, running with linear solver MUMPS 5.4.1.\n",
      "\n",
      "Number of nonzeros in equality constraint Jacobian...:     3606\n",
      "Number of nonzeros in inequality constraint Jacobian.:     7188\n",
      "Number of nonzeros in Lagrangian Hessian.............:    12579\n",
      "\n",
      "Total number of variables............................:     3600\n",
      "                     variables with only lower bounds:        0\n",
      "                variables with lower and upper bounds:        0\n",
      "                     variables with only upper bounds:        0\n",
      "Total number of equality constraints.................:     1210\n",
      "Total number of inequality constraints...............:     1198\n",
      "        inequality constraints with only lower bounds:        0\n",
      "   inequality constraints with lower and upper bounds:     1198\n",
      "        inequality constraints with only upper bounds:        0\n",
      "\n",
      "iter    objective    inf_pr   inf_du lg(mu)  ||d||  lg(rg) alpha_du alpha_pr  ls\n",
      "   0  7.1846633e+02 3.14e+00 1.00e+02  -1.0 0.00e+00    -  0.00e+00 0.00e+00   0\n",
      "   1  3.6172436e+02 4.34e-19 3.14e+02  -1.0 3.14e+00   2.0 9.92e-01 1.00e+00f  1\n",
      "   2  7.3850565e+01 1.73e-18 1.43e+00  -1.0 4.28e-02   1.5 1.00e+00 1.00e+00f  1\n",
      "   3  4.5268761e+00 1.73e-18 3.16e-01  -1.0 2.84e-02   1.0 1.00e+00 1.00e+00f  1\n",
      "   4  1.2334143e+00 8.67e-19 2.75e-02  -1.7 7.43e-03   0.6 1.00e+00 1.00e+00f  1\n",
      "   5  1.2103097e+00 8.67e-19 8.46e-04  -3.8 6.86e-04   0.1 1.00e+00 1.00e+00h  1\n",
      "   6  1.2102863e+00 8.67e-19 3.63e-05  -5.7 8.82e-05  -0.4 1.00e+00 1.00e+00h  1\n",
      "   7  1.2102768e+00 8.67e-19 3.35e-05  -5.7 2.44e-04  -0.9 1.00e+00 1.00e+00h  1\n",
      "   8  1.2102484e+00 8.67e-19 3.94e-05  -5.7 7.31e-04  -1.3 1.00e+00 1.00e+00h  1\n",
      "   9  1.2101640e+00 8.67e-19 3.64e-04  -5.7 2.18e-03  -1.8 1.00e+00 1.00e+00h  1\n",
      "iter    objective    inf_pr   inf_du lg(mu)  ||d||  lg(rg) alpha_du alpha_pr  ls\n",
      "  10  1.2099185e+00 1.73e-18 3.26e-03  -5.7 6.38e-03  -2.3 1.00e+00 1.00e+00h  1\n",
      "  11  1.2092539e+00 1.73e-18 2.34e-02  -5.7 1.79e-02  -2.8 1.00e+00 1.00e+00h  1\n",
      "  12  1.2078400e+00 3.47e-18 1.18e-01  -5.7 4.36e-02  -3.2 1.00e+00 1.00e+00h  1\n",
      "  13  1.2076451e+00 3.47e-18 6.66e-04  -5.7 2.16e-03  -1.9 1.00e+00 1.00e+00h  1\n",
      "  14  1.2074424e+00 3.47e-18 5.07e-03  -5.7 6.11e-03  -2.4 1.00e+00 1.00e+00h  1\n",
      "  15  1.2069075e+00 3.47e-18 2.97e-02  -5.7 1.69e-02  -2.9 1.00e+00 1.00e+00h  1\n",
      "  16  1.2057178e+00 3.47e-18 5.37e-02  -5.7 4.90e-02  -3.4 1.00e+00 1.00e+00h  1\n",
      "  17  1.2056323e+00 3.47e-18 1.37e-03  -5.7 1.99e-03  -2.0 1.00e+00 1.00e+00h  1\n",
      "  18  1.2054683e+00 3.47e-18 7.43e-03  -5.7 5.95e-03  -2.5 1.00e+00 1.00e+00h  1\n",
      "  19  1.2050500e+00 6.94e-18 3.22e-02  -5.7 1.79e-02  -3.0 1.00e+00 1.00e+00h  1\n",
      "iter    objective    inf_pr   inf_du lg(mu)  ||d||  lg(rg) alpha_du alpha_pr  ls\n",
      "  20  1.2041062e+00 6.94e-18 5.37e-02  -5.7 6.38e-02  -3.5 1.00e+00 1.00e+00h  1\n",
      "  21  1.2040307e+00 6.94e-18 2.75e-03  -5.7 2.59e-03  -2.1 1.00e+00 1.00e+00h  1\n",
      "  22  1.2038966e+00 6.94e-18 9.86e-03  -5.7 7.13e-03  -2.6 1.00e+00 1.00e+00h  1\n",
      "  23  1.2035664e+00 6.94e-18 3.02e-02  -5.7 2.15e-02  -3.1 1.00e+00 1.00e+00h  1\n",
      "  24  1.2028078e+00 6.94e-18 6.28e-02  -5.7 7.81e-02  -3.6 1.00e+00 1.00e+00h  1\n",
      "  25  1.2027189e+00 6.94e-18 8.97e-03  -5.7 5.02e-03  -2.2 1.00e+00 1.00e+00h  1\n",
      "  26  1.2026080e+00 6.94e-18 1.03e-02  -5.7 8.15e-03  -2.7 1.00e+00 1.00e+00h  1\n",
      "  27  1.2023423e+00 6.94e-18 3.50e-02  -5.7 2.46e-02  -3.2 1.00e+00 1.00e+00h  1\n",
      "  28  1.2022271e+00 6.94e-18 3.82e-03  -5.7 9.10e-03  -2.8 1.00e+00 1.00e+00h  1\n",
      "  29  1.2020140e+00 6.94e-18 7.42e-02  -5.7 2.55e-02  -3.2 1.00e+00 1.00e+00h  1\n",
      "iter    objective    inf_pr   inf_du lg(mu)  ||d||  lg(rg) alpha_du alpha_pr  ls\n",
      "  30  1.2018480e+00 6.94e-18 8.89e-04  -5.7 1.05e-02  -2.8 1.00e+00 1.00e+00h  1\n",
      "  31  1.2017852e+00 6.94e-18 1.38e-01  -5.7 2.63e-02  -3.3 1.00e+00 1.00e+00h  1\n",
      "  32  1.2014692e+00 6.94e-18 2.39e-03  -5.7 1.36e-02  -2.9 1.00e+00 1.00e+00h  1\n",
      "  33  1.2019008e+00 1.39e-17 3.18e-01  -5.7 3.25e-02  -3.3 1.00e+00 1.00e+00H  1\n",
      "  34  1.2011652e+00 6.94e-18 9.85e-05  -5.7 1.39e-03  -2.0 1.00e+00 1.00e+00h  1\n",
      "  35  1.2011281e+00 6.94e-18 2.90e-03  -5.7 3.71e-03  -2.5 1.00e+00 1.00e+00h  1\n",
      "  36  1.2010307e+00 6.94e-18 1.85e-02  -5.7 1.09e-02  -3.0 1.00e+00 1.00e+00h  1\n",
      "  37  1.2008047e+00 6.94e-18 1.05e-02  -5.7 3.54e-02  -3.4 1.00e+00 1.00e+00h  1\n",
      "  38  1.2049290e+00 1.39e-17 1.05e+00  -5.7 7.56e-02  -3.9 1.00e+00 1.00e+00H  1\n",
      "  39  1.2002980e+00 6.94e-18 4.32e-05  -5.7 1.22e-03  -1.7 1.00e+00 1.00e+00f  1\n",
      "iter    objective    inf_pr   inf_du lg(mu)  ||d||  lg(rg) alpha_du alpha_pr  ls\n",
      "  40  1.2002889e+00 6.94e-18 3.51e-04  -5.7 1.28e-03  -2.2 1.00e+00 1.00e+00h  1\n",
      "  41  1.2002624e+00 6.94e-18 3.01e-03  -5.7 3.78e-03  -2.6 1.00e+00 1.00e+00h  1\n",
      "  42  1.2001964e+00 6.94e-18 1.68e-02  -5.7 1.10e-02  -3.1 1.00e+00 1.00e+00h  1\n",
      "  43  1.2000478e+00 6.94e-18 8.07e-03  -5.7 3.63e-02  -3.6 1.00e+00 1.00e+00h  1\n",
      "  44  1.2000429e+00 6.94e-18 1.03e-01  -5.7 1.96e-02  -3.2 1.00e+00 1.00e+00h  1\n",
      "  45  1.1999577e+00 6.94e-18 1.12e-03  -5.7 4.51e-03  -2.7 1.00e+00 1.00e+00h  1\n",
      "  46  1.1999074e+00 6.94e-18 2.39e-02  -5.7 1.07e-02  -3.2 1.00e+00 1.00e+00h  1\n",
      "  47  1.1997908e+00 6.94e-18 2.00e-02  -5.7 4.18e-02  -3.7 1.00e+00 1.00e+00h  1\n",
      "  48  1.1997800e+00 6.94e-18 5.73e-04  -5.7 1.53e-03  -2.4 1.00e+00 1.00e+00h  1\n",
      "  49  1.1997630e+00 6.94e-18 2.71e-03  -5.7 3.71e-03  -2.8 1.00e+00 1.00e+00h  1\n",
      "iter    objective    inf_pr   inf_du lg(mu)  ||d||  lg(rg) alpha_du alpha_pr  ls\n",
      "  50  1.1997233e+00 6.94e-18 1.29e-02  -5.7 1.06e-02  -3.3 1.00e+00 1.00e+00h  1\n",
      "  51  1.1996406e+00 6.94e-18 7.95e-03  -5.7 3.45e-02  -3.8 1.00e+00 1.00e+00h  1\n",
      "  52  1.2360201e+00 1.39e-17 3.94e+00  -5.7 1.28e-01  -3.4 1.00e+00 1.00e+00H  1\n",
      "  53  1.1995651e+00 6.94e-18 5.57e-04  -5.7 4.81e-03  -1.1 1.00e+00 1.00e+00f  1\n",
      "  54  1.1995646e+00 6.94e-18 3.57e-06  -5.7 1.41e-04  -1.6 1.00e+00 1.00e+00h  1\n",
      "  55  1.1995633e+00 6.94e-18 3.06e-05  -8.6 4.20e-04  -2.1 1.00e+00 1.00e+00h  1\n",
      "  56  1.1995597e+00 6.94e-18 2.68e-04  -8.6 1.24e-03  -2.6 1.00e+00 1.00e+00h  1\n",
      "  57  1.1995497e+00 6.94e-18 2.17e-03  -8.6 3.54e-03  -3.0 1.00e+00 1.00e+00h  1\n",
      "  58  1.1995283e+00 6.94e-18 8.55e-03  -8.6 9.53e-03  -3.5 1.00e+00 1.00e+00h  1\n",
      "  59  1.1994918e+00 6.94e-18 7.26e-03  -8.6 2.63e-02  -4.0 1.00e+00 1.00e+00h  1\n",
      "iter    objective    inf_pr   inf_du lg(mu)  ||d||  lg(rg) alpha_du alpha_pr  ls\n",
      "  60  1.1994894e+00 6.94e-18 2.41e-04  -8.6 1.01e-03  -2.7 1.00e+00 1.00e+00h  1\n",
      "  61  1.1994847e+00 6.94e-18 1.41e-03  -8.6 2.70e-03  -3.1 1.00e+00 1.00e+00h  1\n",
      "  62  1.1994748e+00 6.94e-18 5.80e-03  -8.6 7.18e-03  -3.6 1.00e+00 1.00e+00h  1\n",
      "  63  1.1994592e+00 6.94e-18 1.90e-03  -8.6 1.94e-02  -4.1 1.00e+00 1.00e+00h  1\n",
      "  64  1.1994558e+00 6.94e-18 1.36e-02  -8.6 7.77e-03  -3.7 1.00e+00 1.00e+00h  1\n",
      "  65  1.1994480e+00 6.94e-18 5.68e-03  -8.6 1.81e-02  -4.2 1.00e+00 1.00e+00h  1\n",
      "  66  1.1994475e+00 6.94e-18 4.45e-05  -8.6 4.74e-04  -2.8 1.00e+00 1.00e+00h  1\n",
      "  67  1.1994468e+00 6.94e-18 3.06e-04  -8.6 1.30e-03  -3.3 1.00e+00 1.00e+00h  1\n",
      "  68  1.1994455e+00 6.94e-18 1.47e-03  -8.6 3.12e-03  -3.8 1.00e+00 1.00e+00h  1\n",
      "  69  1.1994440e+00 6.94e-18 1.27e-03  -8.6 6.31e-03  -4.3 1.00e+00 1.00e+00h  1\n",
      "iter    objective    inf_pr   inf_du lg(mu)  ||d||  lg(rg) alpha_du alpha_pr  ls\n",
      "  70  1.1994431e+00 6.94e-18 3.22e-04  -8.6 7.41e-03  -4.7 1.00e+00 1.00e+00h  1\n",
      "  71  1.1994430e+00 6.94e-18 4.23e-04  -8.6 1.40e-03  -4.3 1.00e+00 1.00e+00h  1\n",
      "  72  1.1994430e+00 6.94e-18 1.17e-04  -8.6 1.35e-03  -4.8 1.00e+00 1.00e+00h  1\n",
      "  73  1.1994430e+00 6.94e-18 2.59e-05  -8.6 5.76e-04  -5.3 1.00e+00 1.00e+00h  1\n",
      "  74  1.1994430e+00 6.94e-18 6.44e-07  -8.6 7.97e-05  -5.7 1.00e+00 1.00e+00h  1\n",
      "  75  1.1994430e+00 6.94e-18 2.20e-09  -8.6 3.46e-06  -6.2 1.00e+00 1.00e+00h  1\n",
      "\n",
      "Number of Iterations....: 75\n",
      "\n",
      "                                   (scaled)                 (unscaled)\n",
      "Objective...............:   5.1127914125867324e-01    1.1994429573169545e+00\n",
      "Dual infeasibility......:   2.1973434034058360e-09    5.1548906601854996e-09\n",
      "Constraint violation....:   6.9388939039072284e-18    6.9388939039072284e-18\n",
      "Variable bound violation:   0.0000000000000000e+00    0.0000000000000000e+00\n",
      "Complementarity.........:   2.5059035596800626e-09    5.8787619791691424e-09\n",
      "Overall NLP error.......:   2.5059035596800626e-09    5.8787619791691424e-09\n",
      "\n",
      "\n",
      "Number of objective function evaluations             = 82\n",
      "Number of objective gradient evaluations             = 76\n",
      "Number of equality constraint evaluations            = 82\n",
      "Number of inequality constraint evaluations          = 82\n",
      "Number of equality constraint Jacobian evaluations   = 76\n",
      "Number of inequality constraint Jacobian evaluations = 76\n",
      "Number of Lagrangian Hessian evaluations             = 75\n",
      "Total seconds in IPOPT                               = 204.337\n",
      "\n",
      "EXIT: Optimal Solution Found.\n",
      "      solver  :   t_proc      (avg)   t_wall      (avg)    n_eval\n",
      "       nlp_f  |   3.95 s ( 48.14ms)   3.94 s ( 48.01ms)        82\n",
      "       nlp_g  |   4.33 s ( 52.86ms)   4.33 s ( 52.75ms)        82\n",
      "  nlp_grad_f  |  11.76 s (152.70ms)  11.72 s (152.16ms)        77\n",
      "  nlp_hess_l  | 155.38 s (  2.07 s) 154.74 s (  2.06 s)        75\n",
      "   nlp_jac_g  |  27.63 s (358.80ms)  27.52 s (357.36ms)        77\n",
      "       total  | 205.17 s (205.17 s) 204.34 s (204.34 s)         1\n"
     ]
    },
    {
     "data": {
      "text/plain": [
       "OptiSol(Opti {\n",
       "  instance #0\n",
       "  #variables: 1 (nx = 3600)\n",
       "  #parameters: 0 (np = 0)\n",
       "  #constraints: 1803 (ng = 2408)\n",
       "  CasADi solver allocated.\n",
       "  CasADi solver was called: Solve_Succeeded\n",
       "})"
      ]
     },
     "execution_count": 19,
     "metadata": {},
     "output_type": "execute_result"
    }
   ],
   "source": [
    "opti.solver(\"ipopt\")\n",
    "opti.solve()"
   ]
  },
  {
   "cell_type": "code",
   "execution_count": 20,
   "metadata": {},
   "outputs": [],
   "source": [
    "q, dq, ddq = opti.value(q), opti.value(dq), opti.value(ddq)"
   ]
  },
  {
   "cell_type": "code",
   "execution_count": 21,
   "metadata": {},
   "outputs": [
    {
     "data": {
      "text/plain": [
       "Text(0, 0.5, 'Angle [rad]')"
      ]
     },
     "execution_count": 21,
     "metadata": {},
     "output_type": "execute_result"
    },
    {
     "data": {
      "image/png": "[encoded data removed]",
      "text/plain": [
       "<Figure size 640x480 with 1 Axes>"
      ]
     },
     "metadata": {},
     "output_type": "display_data"
    }
   ],
   "source": [
    "from matplotlib import pyplot as plt\n",
    "\n",
    "timeseries = cs.linspace(0, T, N)\n",
    "\n",
    "plt.title(\"Generalized coordinates\")\n",
    "plt.grid()\n",
    "plt.plot(timeseries, q)\n",
    "plt.xlabel(\"Time [s]\")\n",
    "plt.ylabel(\"Angle [rad]\")"
   ]
  },
  {
   "cell_type": "code",
   "execution_count": 22,
   "metadata": {},
   "outputs": [
    {
     "data": {
      "text/plain": [
       "Text(0, 0.5, 'Velocity [rad/s]')"
      ]
     },
     "execution_count": 22,
     "metadata": {},
     "output_type": "execute_result"
    },
    {
     "data": {
      "image/png": "[encoded data removed]",
      "text/plain": [
       "<Figure size 640x480 with 1 Axes>"
      ]
     },
     "metadata": {},
     "output_type": "display_data"
    }
   ],
   "source": [
    "from matplotlib import pyplot as plt\n",
    "\n",
    "timeseries = cs.linspace(0, T, N)\n",
    "\n",
    "plt.title(\"Pendulum velocity\")\n",
    "plt.grid()\n",
    "plt.plot(timeseries, dq)\n",
    "plt.xlabel(\"Time [s]\")\n",
    "plt.ylabel(\"Velocity [rad/s]\")"
   ]
  },
  {
   "cell_type": "code",
   "execution_count": 23,
   "metadata": {},
   "outputs": [
    {
     "data": {
      "text/plain": [
       "Text(0, 0.5, 'Acceleration [rad/s^2]')"
      ]
     },
     "execution_count": 23,
     "metadata": {},
     "output_type": "execute_result"
    },
    {
     "data": {
      "image/png": "[encoded data removed]",
      "text/plain": [
       "<Figure size 640x480 with 1 Axes>"
      ]
     },
     "metadata": {},
     "output_type": "display_data"
    }
   ],
   "source": [
    "from matplotlib import pyplot as plt\n",
    "\n",
    "timeseries = cs.linspace(0, T, N)\n",
    "\n",
    "plt.title(\"Pendulum acceleration\")\n",
    "plt.grid()\n",
    "plt.plot(timeseries, ddq)\n",
    "plt.xlabel(\"Time [s]\")\n",
    "plt.ylabel(\"Acceleration [rad/s^2]\")"
   ]
  }
 ],
 "metadata": {
  "kernelspec": {
   "display_name": "venv",
   "language": "python",
   "name": "python3"
  },
  "language_info": {
   "codemirror_mode": {
    "name": "ipython",
    "version": 3
   },
   "file_extension": ".py",
   "mimetype": "text/x-python",
   "name": "python",
   "nbconvert_exporter": "python",
   "pygments_lexer": "ipython3",
   "version": "3.10.12"
  }
 },
 "nbformat": 4,
 "nbformat_minor": 2
}
