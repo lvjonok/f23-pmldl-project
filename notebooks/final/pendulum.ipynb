{
 "cells": [
  {
   "cell_type": "markdown",
   "metadata": {},
   "source": [
    "# Learning pendulum inverse dynamics"
   ]
  },
  {
   "cell_type": "code",
   "execution_count": 1,
   "metadata": {},
   "outputs": [],
   "source": [
    "import os\n",
    "import pandas as pd\n",
    "import numpy as np\n",
    "import torch\n",
    "\n",
    "from torch import nn\n",
    "from torch.utils.data import TensorDataset, DataLoader\n",
    "from sklearn.model_selection import train_test_split\n",
    "from matplotlib import pyplot as plt\n",
    "import sys\n",
    "\n",
    "sys.path.append(\"../..\")\n",
    "\n",
    "from src.physics_dataset import PhysicsStatesDataset\n",
    "from src.ai_models import FullyConnectedCtrl, CasadiModel"
   ]
  },
  {
   "cell_type": "code",
   "execution_count": 2,
   "metadata": {},
   "outputs": [],
   "source": [
    "dataset = PhysicsStatesDataset(\"../../data/interim/pendulum/mixed1.csv\")"
   ]
  },
  {
   "cell_type": "code",
   "execution_count": 3,
   "metadata": {},
   "outputs": [
    {
     "data": {
      "text/html": [
       "<div>\n",
       "<style scoped>\n",
       "    .dataframe tbody tr th:only-of-type {\n",
       "        vertical-align: middle;\n",
       "    }\n",
       "\n",
       "    .dataframe tbody tr th {\n",
       "        vertical-align: top;\n",
       "    }\n",
       "\n",
       "    .dataframe thead th {\n",
       "        text-align: right;\n",
       "    }\n",
       "</style>\n",
       "<table border=\"1\" class=\"dataframe\">\n",
       "  <thead>\n",
       "    <tr style=\"text-align: right;\">\n",
       "      <th></th>\n",
       "      <th>id</th>\n",
       "      <th>time</th>\n",
       "      <th>qpos</th>\n",
       "      <th>qvel</th>\n",
       "      <th>qacc</th>\n",
       "      <th>ctrl</th>\n",
       "    </tr>\n",
       "  </thead>\n",
       "  <tbody>\n",
       "    <tr>\n",
       "      <th>0</th>\n",
       "      <td>0</td>\n",
       "      <td>0.001</td>\n",
       "      <td>[-5.27405987e-05]</td>\n",
       "      <td>[-0.0527406]</td>\n",
       "      <td>[-52.74059872]</td>\n",
       "      <td>[-57.4872526]</td>\n",
       "    </tr>\n",
       "    <tr>\n",
       "      <th>1</th>\n",
       "      <td>1</td>\n",
       "      <td>0.002</td>\n",
       "      <td>[-0.00013264]</td>\n",
       "      <td>[-0.07989561]</td>\n",
       "      <td>[-27.15500922]</td>\n",
       "      <td>[-29.59911526]</td>\n",
       "    </tr>\n",
       "    <tr>\n",
       "      <th>2</th>\n",
       "      <td>2</td>\n",
       "      <td>0.003</td>\n",
       "      <td>[-0.00021852]</td>\n",
       "      <td>[-0.08588338]</td>\n",
       "      <td>[-5.9877766]</td>\n",
       "      <td>[-6.52706684]</td>\n",
       "    </tr>\n",
       "    <tr>\n",
       "      <th>3</th>\n",
       "      <td>3</td>\n",
       "      <td>0.004</td>\n",
       "      <td>[-0.00031071]</td>\n",
       "      <td>[-0.09218989]</td>\n",
       "      <td>[-6.30650874]</td>\n",
       "      <td>[-6.87473762]</td>\n",
       "    </tr>\n",
       "    <tr>\n",
       "      <th>4</th>\n",
       "      <td>4</td>\n",
       "      <td>0.005</td>\n",
       "      <td>[-0.00044756]</td>\n",
       "      <td>[-0.13684961]</td>\n",
       "      <td>[-44.65972047]</td>\n",
       "      <td>[-48.68000974]</td>\n",
       "    </tr>\n",
       "  </tbody>\n",
       "</table>\n",
       "</div>"
      ],
      "text/plain": [
       "   id   time               qpos           qvel            qacc            ctrl\n",
       "0   0  0.001  [-5.27405987e-05]   [-0.0527406]  [-52.74059872]   [-57.4872526]\n",
       "1   1  0.002      [-0.00013264]  [-0.07989561]  [-27.15500922]  [-29.59911526]\n",
       "2   2  0.003      [-0.00021852]  [-0.08588338]    [-5.9877766]   [-6.52706684]\n",
       "3   3  0.004      [-0.00031071]  [-0.09218989]   [-6.30650874]   [-6.87473762]\n",
       "4   4  0.005      [-0.00044756]  [-0.13684961]  [-44.65972047]  [-48.68000974]"
      ]
     },
     "execution_count": 3,
     "metadata": {},
     "output_type": "execute_result"
    }
   ],
   "source": [
    "dataset.dataframe.head()"
   ]
  },
  {
   "cell_type": "code",
   "execution_count": 4,
   "metadata": {},
   "outputs": [],
   "source": [
    "from sklearn.model_selection import train_test_split\n",
    "\n",
    "proportion = 0.2\n",
    "x_train, x_test, y_train, y_test = train_test_split(\n",
    "    dataset.states, dataset.ctrls, test_size=proportion, random_state=42\n",
    ")"
   ]
  },
  {
   "cell_type": "code",
   "execution_count": 5,
   "metadata": {},
   "outputs": [
    {
     "name": "stderr",
     "output_type": "stream",
     "text": [
      "/tmp/ipykernel_221631/3394741560.py:2: UserWarning: To copy construct from a tensor, it is recommended to use sourceTensor.clone().detach() or sourceTensor.clone().detach().requires_grad_(True), rather than torch.tensor(sourceTensor).\n",
      "  TensorDataset(torch.tensor(x_train), torch.tensor(y_train)),\n",
      "/tmp/ipykernel_221631/3394741560.py:7: UserWarning: To copy construct from a tensor, it is recommended to use sourceTensor.clone().detach() or sourceTensor.clone().detach().requires_grad_(True), rather than torch.tensor(sourceTensor).\n",
      "  TensorDataset(torch.tensor(x_test), torch.tensor(y_test)),\n"
     ]
    }
   ],
   "source": [
    "train_loader = DataLoader(\n",
    "    TensorDataset(torch.tensor(x_train), torch.tensor(y_train)),\n",
    "    batch_size=20,\n",
    "    shuffle=True,\n",
    ")\n",
    "val_loader = DataLoader(\n",
    "    TensorDataset(torch.tensor(x_test), torch.tensor(y_test)),\n",
    "    batch_size=20,\n",
    "    shuffle=True,\n",
    ")"
   ]
  },
  {
   "cell_type": "code",
   "execution_count": 6,
   "metadata": {},
   "outputs": [],
   "source": [
    "device = \"cuda\" if torch.cuda.is_available() else \"cpu\"\n",
    "\n",
    "model = FullyConnectedCtrl(\n",
    "    nv=1,\n",
    "    ctrl=1,\n",
    "    linear_layers=3,\n",
    "    linear_hidden_size=100,\n",
    ").to(device)"
   ]
  },
  {
   "cell_type": "code",
   "execution_count": 7,
   "metadata": {},
   "outputs": [
    {
     "data": {
      "text/plain": [
       "<All keys matched successfully>"
      ]
     },
     "execution_count": 7,
     "metadata": {},
     "output_type": "execute_result"
    }
   ],
   "source": [
    "model.load_state_dict(torch.load(\"../../data/models/pendulum_fc.pt\"))"
   ]
  },
  {
   "cell_type": "code",
   "execution_count": 8,
   "metadata": {},
   "outputs": [],
   "source": [
    "# _, val_losses = model.train_model(\n",
    "#     train_loader,\n",
    "#     val_loader,\n",
    "#     epochs=30,\n",
    "#     ckpt_path=\"../../data/models/pendulum_fc.pt\",\n",
    "# )\n"
   ]
  },
  {
   "cell_type": "code",
   "execution_count": 9,
   "metadata": {},
   "outputs": [],
   "source": [
    "# plt.title(\"Validation losses\")\n",
    "# plt.plot(val_losses)\n",
    "# plt.grid()\n",
    "# plt.xlabel(\"Epoch\")\n",
    "# plt.ylabel(\"Loss\")\n",
    "# plt.show()"
   ]
  },
  {
   "cell_type": "markdown",
   "metadata": {},
   "source": [
    "### Model is trained, now we go to inferecing and copying its weights"
   ]
  },
  {
   "cell_type": "code",
   "execution_count": 13,
   "metadata": {},
   "outputs": [
    {
     "data": {
      "text/plain": [
       "tensor([-0.3516], grad_fn=<ViewBackward0>)"
      ]
     },
     "execution_count": 13,
     "metadata": {},
     "output_type": "execute_result"
    }
   ],
   "source": [
    "model(torch.tensor([0, 0, 0], dtype=torch.float))"
   ]
  },
  {
   "cell_type": "code",
   "execution_count": 10,
   "metadata": {},
   "outputs": [],
   "source": [
    "casadi_model = CasadiModel(model)"
   ]
  },
  {
   "cell_type": "code",
   "execution_count": 11,
   "metadata": {},
   "outputs": [
    {
     "data": {
      "text/plain": [
       "DM(-0.351554)"
      ]
     },
     "execution_count": 11,
     "metadata": {},
     "output_type": "execute_result"
    }
   ],
   "source": [
    "casadi_model(np.array([0, 0, 0]))"
   ]
  },
  {
   "cell_type": "markdown",
   "metadata": {},
   "source": [
    "As we see, we have transfered all weights correctly"
   ]
  }
 ],
 "metadata": {
  "kernelspec": {
   "display_name": "venv",
   "language": "python",
   "name": "python3"
  },
  "language_info": {
   "codemirror_mode": {
    "name": "ipython",
    "version": 3
   },
   "file_extension": ".py",
   "mimetype": "text/x-python",
   "name": "python",
   "nbconvert_exporter": "python",
   "pygments_lexer": "ipython3",
   "version": "3.10.12"
  }
 },
 "nbformat": 4,
 "nbformat_minor": 2
}
